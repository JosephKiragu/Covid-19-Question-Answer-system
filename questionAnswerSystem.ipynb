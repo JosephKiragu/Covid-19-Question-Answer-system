{
 "cells": [
  {
   "attachments": {},
   "cell_type": "markdown",
   "metadata": {},
   "source": [
    "## Common imports"
   ]
  },
  {
   "cell_type": "code",
   "execution_count": 9,
   "metadata": {},
   "outputs": [],
   "source": [
    "import pandas as pd\n",
    "import numpy as np\n",
    "import json\n",
    "import os\n",
    "import torch\n",
    "import re\n",
    "import string\n",
    "from typing import List, Tuple\n",
    "from transformers import AutoTokenizer, AutoModelForQuestionAnswering\n",
    "from nltk.corpus import stopwords\n",
    "from nltk.tokenize import word_tokenize\n",
    "from nltk import download\n",
    "import gtts\n",
    "from IPython.display import Audio\n"
   ]
  },
  {
   "cell_type": "code",
   "execution_count": null,
   "metadata": {},
   "outputs": [],
   "source": [
    "download('punkt')\n",
    "download('stopwords')"
   ]
  },
  {
   "cell_type": "code",
   "execution_count": null,
   "metadata": {},
   "outputs": [],
   "source": [
    "# Reading the dataset into a list\n",
    "\n",
    "import os\n",
    "files = []\n",
    "for dirname, _, filenames in os.walk(os.getcwd() + '/Covid'):\n",
    "    for filename in filenames:\n",
    "        if filename.lower().endswith((\".json\")):\n",
    "            files.append(os.path.join(dirname, filename))"
   ]
  },
  {
   "cell_type": "code",
   "execution_count": 13,
   "metadata": {},
   "outputs": [],
   "source": [
    "from sklearn.feature_extraction.text import TfidfVectorizer\n",
    "from sklearn.metrics.pairwise import cosine_similarity\n",
    "\n",
    "class KnowledgeRetriever:\n",
    "    def __init__(self, knowledge_base_path: str):\n",
    "        # Load the knowledge base\n",
    "        self.data = pd.read_csv(knowledge_base_path, header=None, names=['paper_id', 'text', 'relation'])\n",
    "\n",
    "        # Combine text for each paper_id\n",
    "        self.combined_text = self.data.groupby('paper_id')['text'].apply(lambda x: ' '.join(x)).reset_index()\n",
    "\n",
    "        # Vectorize the text using TF-IDF\n",
    "        self.vectorizer = TfidfVectorizer()\n",
    "        self.tfidf_matrix = self.vectorizer.fit_transform(self.combined_text['text'])\n",
    "\n",
    "    def get_matching_articles(self, query: str, top_n: int = 5):\n",
    "        \"\"\"\n",
    "        Retrieve the top_n articles that match the given query.\n",
    "\n",
    "        :param query: A preprocessed user query.\n",
    "        :param top_n: The number of top articles to retrieve.\n",
    "        :return: A list of tuples containing the article ID and similarity score.\n",
    "        \"\"\"\n",
    "        query_vector = self.vectorizer.transform([query])\n",
    "        similarity_scores = cosine_similarity(query_vector, self.tfidf_matrix)\n",
    "        ranked_indices = similarity_scores.argsort().flatten()[::-1]\n",
    "\n",
    "        top_paper_ids = self.combined_text.iloc[ranked_indices[:top_n]]['paper_id'].tolist()\n",
    "        top_scores = similarity_scores[0, ranked_indices[:top_n]].tolist()\n",
    "\n",
    "        return list(zip(top_paper_ids, top_scores))\n",
    "    \n",
    "    def get_article_text(self, paper_id):\n",
    "        for item in files[:20]:  # Remember to match this to the number of articles originally processed\n",
    "            with open(item, 'r') as object:\n",
    "                data = object.read()\n",
    "            obj = json.loads(data)\n",
    "            paperid = obj['paper_id']\n",
    "\n",
    "            if paperid == paper_id:  # Filter the appropriate article based on id\n",
    "                title = obj['metadata']['title']\n",
    "                abstract = obj['abstract']\n",
    "                body = obj['body_text']\n",
    "\n",
    "                article_text = title + \" \" + \" \".join([item['text'] for item in abstract]) + \" \" + \" \".join([item['text'] for item in body])\n",
    "                break\n",
    "        else:\n",
    "            article_text = None\n",
    "\n",
    "        return article_text\n"
   ]
  },
  {
   "cell_type": "code",
   "execution_count": 12,
   "metadata": {},
   "outputs": [],
   "source": [
    "from transformers import BertTokenizer, BertForQuestionAnswering\n",
    "import tqdm as notebook_tqdm\n",
    "\n",
    "class AnswerGenerator:\n",
    "    def __init__(self, model_name = \"bert-large-uncased-whole-word-masking-finetuned-squad\") :\n",
    "        # Initialize the device\n",
    "        self.device = torch.device(\"cuda\" if torch.cuda.is_available() else \"cpu\")\n",
    "\n",
    "        # Load the pre-trained BERT model and tokenizer\n",
    "        self.tokenizer = BertTokenizer.from_pretrained(model_name)\n",
    "        self.model = BertForQuestionAnswering.from_pretrained(model_name)\n",
    "\n",
    "        # move the model to the device\n",
    "        self.model.to(self.device)\n",
    "\n",
    "    def generate_answer(self, question, context) :\n",
    "        \"\"\"\n",
    "        Generate a natural language answer from given question and context.\n",
    "        :param question: A natural language question.\n",
    "        :param context: The context from which the answer can be extracted.\n",
    "        :return: A natural language answer to the question\n",
    "        \"\"\"\n",
    "\n",
    "        # Encode the input text using the tokenizer\n",
    "        inputs = self.tokenizer.encode_plus(question, context, return_tensors = \"pt\", max_length = 512, truncation = True)\n",
    "\n",
    "        # Move the input tensors to the device\n",
    "        input_ids = inputs[\"input_ids\"].to(self.device)\n",
    "        token_type_ids = inputs[\"token_type_ids\"].to(self.device)\n",
    "        attention_mask = inputs[\"attention_mask\"].to(self.device)\n",
    "\n",
    "        # Pass the input tensors through the model to get the start and end scores for the answer span\n",
    "        outputs = self.model(input_ids, token_type_ids = token_type_ids, attention_mask = attention_mask)\n",
    "        start_scores = outputs.start_logits\n",
    "        end_scores = outputs.end_logits\n",
    "\n",
    "        #Find the indices of the highest start and end scores\n",
    "        start_idx = torch.argmax(start_scores).item()\n",
    "        end_idx = torch.argmax(end_scores).item()\n",
    "\n",
    "        # Decode the answer  by converting the token IDs back to tokens and then to natural language\n",
    "        answer = self.tokenizer.convert_tokens_to_string(self.tokenizer.convert_ids_to_tokens(input_ids[0][start_idx:end_idx + 1]))\n",
    "\n",
    "        return answer"
   ]
  },
  {
   "attachments": {},
   "cell_type": "markdown",
   "metadata": {},
   "source": [
    "### Pre-processing the text"
   ]
  },
  {
   "cell_type": "code",
   "execution_count": 14,
   "metadata": {},
   "outputs": [],
   "source": [
    "import re\n",
    "\n",
    "def preprocess_text(text) :\n",
    "\t# remove special characters\n",
    "\ttext = re.sub('[^a-zA-Z0-9]', ' ', text)\n",
    "\n",
    "\t#Replace multiple spaces with a single space\n",
    "\ttext = re.sub('\\s+', ' ', text).strip()\n",
    "\n",
    "\treturn text"
   ]
  },
  {
   "cell_type": "code",
   "execution_count": 16,
   "metadata": {},
   "outputs": [
    {
     "name": "stderr",
     "output_type": "stream",
     "text": [
      "Be aware, overflowing tokens are not returned for the setting you have chosen, i.e. sequence pairs with the 'longest_first' truncation strategy. So the returned list will always be empty even if some tokens have been removed.\n"
     ]
    },
    {
     "name": "stdout",
     "output_type": "stream",
     "text": [
      "Answer: [SEP]\n"
     ]
    },
    {
     "data": {
      "text/html": [
       "\n",
       "                <audio  controls=\"controls\" autoplay=\"autoplay\">\n",
       "                    <source src=\"data:audio/mpeg;base64,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\" type=\"audio/mpeg\" />\n",
       "                    Your browser does not support the audio element.\n",
       "                </audio>\n",
       "              "
      ],
      "text/plain": [
       "<IPython.lib.display.Audio object>"
      ]
     },
     "metadata": {},
     "output_type": "display_data"
    },
    {
     "name": "stderr",
     "output_type": "stream",
     "text": [
      "Be aware, overflowing tokens are not returned for the setting you have chosen, i.e. sequence pairs with the 'longest_first' truncation strategy. So the returned list will always be empty even if some tokens have been removed.\n"
     ]
    },
    {
     "name": "stdout",
     "output_type": "stream",
     "text": [
      "Answer: [SEP]\n"
     ]
    },
    {
     "data": {
      "text/html": [
       "\n",
       "                <audio  controls=\"controls\" autoplay=\"autoplay\">\n",
       "                    <source src=\"data:audio/mpeg;base64,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\" type=\"audio/mpeg\" />\n",
       "                    Your browser does not support the audio element.\n",
       "                </audio>\n",
       "              "
      ],
      "text/plain": [
       "<IPython.lib.display.Audio object>"
      ]
     },
     "metadata": {},
     "output_type": "display_data"
    },
    {
     "name": "stdout",
     "output_type": "stream",
     "text": [
      "\n",
      " Thank you for using our answering system! Goodbye!\n"
     ]
    }
   ],
   "source": [
    "\n",
    "def main_loop():\n",
    "    \"\"\"\n",
    "    In the `main_loop()` function, we first create instances of `KnowledgeRetrieval` and `AnswerGenerator`. \n",
    "    Then, for each user question, we preprocess the question, retrieve the top relevant articles, and get the text of the most relevant article. \n",
    "    Finally, we use the `AnswerGenerator` instance to generate a natural language answer using the BERT model.\n",
    "    \"\"\"\n",
    "\n",
    "    knowledge_retrieval = KnowledgeRetriever('triples.csv')\n",
    "    answer_generator = AnswerGenerator()\n",
    "    \n",
    "    while True:\n",
    "        question = input(\"Please enter your question or type 'quit' to exit: \")\n",
    "        if question.strip().lower() == 'quit':\n",
    "            break\n",
    "        \n",
    "        # Preprocess the question\n",
    "        question = preprocess_text(question)\n",
    "            \n",
    "        # Retrieve the top relevant articles using the get_matching_articles()\n",
    "        top_articles = knowledge_retrieval.get_matching_articles(question, top_n=1)\n",
    "\n",
    "        # Retrieve the text of the most relevant article\n",
    "        most_relevant_article_id, _ = top_articles[0]\n",
    "        most_relevant_text = knowledge_retrieval.get_article_text(most_relevant_article_id)\n",
    "        \n",
    "        # Generate a natural language answer based on BERT\n",
    "        answer = answer_generator.generate_answer(question, most_relevant_text)\n",
    "        \n",
    "        print(\"Answer: {}\".format(answer))\n",
    "        \n",
    "        # Check if the user wants spoken responses\n",
    "        spoken_response = input(\"Would you like the response to be spoken? (yes/no): \").strip().lower()\n",
    "\n",
    "        if spoken_response == \"yes\":\n",
    "            # Convert the answer text to audio using the text_to_speech() function\n",
    "            tts = gtts.gTTS(answer, lang=\"en\")\n",
    "            tts.save(\"answer.mp3\")\n",
    "\n",
    "            # Play the audio\n",
    "            display(Audio(\"answer.mp3\", autoplay=True))\n",
    "        \n",
    "    print(\"\\n Thank you for using our answering system! Goodbye!\")\n",
    "    \n",
    "if __name__ == \"__main__\":\n",
    "    main_loop()\n",
    "\n",
    "\n"
   ]
  },
  {
   "cell_type": "code",
   "execution_count": null,
   "metadata": {},
   "outputs": [],
   "source": []
  }
 ],
 "metadata": {
  "kernelspec": {
   "display_name": "myEnv",
   "language": "python",
   "name": "python3"
  },
  "language_info": {
   "codemirror_mode": {
    "name": "ipython",
    "version": 3
   },
   "file_extension": ".py",
   "mimetype": "text/x-python",
   "name": "python",
   "nbconvert_exporter": "python",
   "pygments_lexer": "ipython3",
   "version": "3.9.16"
  },
  "orig_nbformat": 4
 },
 "nbformat": 4,
 "nbformat_minor": 2
}
